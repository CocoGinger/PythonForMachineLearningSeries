{
 "cells": [
  {
   "cell_type": "markdown",
   "metadata": {},
   "source": [
    "## These are just few notebooks meant to get you started with pandas\n",
    "\n",
    "## Learn Numpy from This Great documentation https://numpy.org/doc/stable/user/quickstart.html\n",
    "\n",
    "\n",
    "- For you to install pandas ... got to the terminal and install it as follows\n",
    "\n",
    "    `pip install pandas`\n",
    "\n",
    "\n",
    "- for numpy install it as\n",
    "      `pip install numpy`\n",
    " \n",
    "-  for datareader--\n",
    "     `pip install pandas_datareader`\n",
    "-  seaborn\n",
    "    `pip install seaborn`\n",
    "    \n",
    "for other libraries or anything just do it using `pip`\n",
    "\n",
    "## NOTE   \n",
    "### If you are using jupyternootebook to install precide your `pip` command with `!`\n",
    "\n",
    "Example   `!pip install library name`\n",
    "\n",
    "\n",
    "##  I have note included numpy tutorials..\n",
    "##  you need to check its tutorial maybe from the documentation or even book\n",
    "## it is not hard to learn it..\n"
   ]
  },
  {
   "cell_type": "code",
   "execution_count": null,
   "metadata": {},
   "outputs": [],
   "source": []
  },
  {
   "cell_type": "markdown",
   "metadata": {},
   "source": [
    "# For the Machine Learning Part..\n",
    " ## Here are the steps you need to have first..\n",
    " \n",
    "### - Make sure you have installed all the libraries.. for our case `sklearn`\n",
    "\n",
    "## Step 1;\n",
    "    - load your data  to the system\n",
    "    - get analysis of the data\n",
    "    - Do some Feature engineering to make sure the models can train using it.\n",
    "            a) Clean you data , Remove all noice or anything that may bring bad results\n",
    "            a) Note that machine learning algorithms understand the data in numerical/int/float format only\n",
    "            b) You need to convert the data that is maybe text/categorical to Numerals\n",
    "            c) You can use ColoumnTransformers ,,OnehotEncoders , LabelEncoders etc .from sklearn library ..\n",
    "            (Do   research on them on these techniques)\n",
    "            d) After converting data to numericals... It is the time to To train the model\n",
    "            e) Split data into train and test for the cases of validating the perfomances\n",
    "            f) initialize the model , train/fit the model , test to validate its score \n",
    "            c) if the score id better and satisfies , go ahead do prediction , deploy etc..\n",
    "            ## Done\n",
    "            \n",
    "            \n",
    "            \n",
    " ### Note you need to start with any notebook Since each function covers some basic functions\n",
    " ### Feel free to use your method of learning...\n",
    " ### But The Notebook named Projects Should be the last one>"
   ]
  },
  {
   "cell_type": "markdown",
   "metadata": {},
   "source": [
    "# I hope This will greatly help you Kickstart Your Journey..\n",
    "### If you gonna have issues you can Reach out to me via email ..\n",
    "### Email stiveckamash@gmail.com\n",
    "### phone +254705698768\n",
    "\n",
    "### Hope it Helps You greatly...\n",
    "###"
   ]
  },
  {
   "cell_type": "markdown",
   "metadata": {},
   "source": [
    "### HEERE Are Some of the resourses to use\n",
    "\n",
    "### Learn Pandas From Here   https://pandas.pydata.org/docs/getting_started/index.html\n",
    "\n",
    "### Download this Book https://www.pdfdrive.com/python-data-science-handbook-e43755558.html\n",
    "### called `Python Data Science Handbook` It a great book that kept me going\n",
    "    "
   ]
  },
  {
   "cell_type": "code",
   "execution_count": null,
   "metadata": {},
   "outputs": [],
   "source": []
  }
 ],
 "metadata": {
  "kernelspec": {
   "display_name": "Python 3",
   "language": "python",
   "name": "python3"
  },
  "language_info": {
   "codemirror_mode": {
    "name": "ipython",
    "version": 3
   },
   "file_extension": ".py",
   "mimetype": "text/x-python",
   "name": "python",
   "nbconvert_exporter": "python",
   "pygments_lexer": "ipython3",
   "version": "3.8.6"
  }
 },
 "nbformat": 4,
 "nbformat_minor": 4
}
