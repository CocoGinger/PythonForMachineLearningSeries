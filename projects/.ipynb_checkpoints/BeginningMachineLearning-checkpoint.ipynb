{
 "cells": [
  {
   "cell_type": "code",
   "execution_count": 1,
   "metadata": {},
   "outputs": [
    {
     "name": "stdout",
     "output_type": "stream",
     "text": [
      "We are going to begining now\n"
     ]
    }
   ],
   "source": [
    "#we will use my own created dataset  to check some ml stafss\n",
    "import seaborn as sns\n",
    "import pandas as pd\n",
    "import numpy as np\n",
    "import matplotlib.pyplot as plt\n",
    "print(\"We are going to begining now\")"
   ]
  },
  {
   "cell_type": "code",
   "execution_count": null,
   "metadata": {},
   "outputs": [],
   "source": []
  },
  {
   "cell_type": "markdown",
   "metadata": {},
   "source": [
    "## Simple recarp About Machine Learning Algorithm\n",
    "\n",
    "### We normally have  Classification , regression  types\n",
    "\n",
    "- Classification used to model/predict fixed/categorical results\n",
    "- Regression is used for continuous  results modelling\n",
    "\n",
    "\n",
    "-- In Machine Learning We have , Tree based algoriths ,linear , ensemble etc\n",
    "\n",
    "- Tree based are based on the idea of binary tree .. yes/no method...\n",
    "- Ensembles are the one based on weak learners/models getting combined to improve them\n",
    "- Linear-----\n",
    "\n",
    "\n",
    "## Simple Way to carry out the activity\n",
    "\n",
    "-- The main methods for each algorithm mainly is\n",
    "    - object.fit()   -- This fit() is used for training/feeding the data to algorithm\n",
    "    -object.predict()  -- Predict new data sets\n",
    "    \n",
    "-- We also have other for validating the score... like accuracy_score , rmse etc\n",
    "\n",
    "\n",
    "### Normally the data   ...X  ...in inform of matrix with a specific number of columns..\n",
    "### y is normally the label / one to be predicted or determine the results..\n",
    "###"
   ]
  },
  {
   "cell_type": "code",
   "execution_count": 2,
   "metadata": {},
   "outputs": [
    {
     "data": {
      "text/plain": [
       "<matplotlib.collections.PathCollection at 0x7fd455ce97f0>"
      ]
     },
     "execution_count": 2,
     "metadata": {},
     "output_type": "execute_result"
    },
    {
     "data": {
      "image/png": "[encoded data removed]",
      "text/plain": [
       "<Figure size 432x288 with 1 Axes>"
      ]
     },
     "metadata": {
      "needs_background": "light"
     },
     "output_type": "display_data"
    }
   ],
   "source": [
    "#generate object that will gives us the numbers trend\n",
    "obj = np.random.RandomState(75)\n",
    "#values for x axis\n",
    "x = 10 * obj.rand(100)\n",
    "#values for the y axis\n",
    "y = 2 * x - 1 + obj.randn(100)\n",
    "#prot the graph\n",
    "plt.scatter(x, y)"
   ]
  },
  {
   "cell_type": "code",
   "execution_count": 3,
   "metadata": {},
   "outputs": [
    {
     "data": {
      "text/plain": [
       "array([5.6894022 , 0.65964228, 8.8811067 , 9.29658177, 6.79692041,\n",
       "       5.44275816, 1.87849342, 6.18263462, 3.74127768, 9.33582168,\n",
       "       6.48141202, 6.71791177, 9.31573568, 6.69988085, 2.32124511,\n",
       "       2.55834351, 2.24991824, 0.80700655, 1.84000242, 7.24949368,\n",
       "       9.98930636, 1.43170115, 2.20721499, 2.78452952, 7.4705776 ,\n",
       "       9.80481986, 7.77995092, 6.95142828, 9.48454942, 0.77848262,\n",
       "       2.10065273, 6.65478851, 7.99375325, 6.38341854, 0.33298997,\n",
       "       2.85192869, 0.85188171, 8.75270334, 9.54721208, 7.28412663,\n",
       "       0.25266518, 7.55610647, 8.91806508, 2.6521018 , 9.31366925,\n",
       "       4.07571729, 4.15168765, 1.97920908, 9.85660032, 3.13294603,\n",
       "       1.79025975, 0.11494983, 8.01645974, 5.03879148, 4.68128573,\n",
       "       7.79448951, 2.83495744, 1.08364431, 8.81750006, 9.40719702,\n",
       "       6.01796065, 6.44337316, 4.99439359, 7.3204298 , 9.59019363,\n",
       "       5.31294845, 8.03713181, 4.87282625, 7.6201435 , 5.95176719,\n",
       "       4.72766934, 4.86902723, 4.74805382, 4.26034765, 7.898234  ,\n",
       "       1.17060778, 1.33554387, 3.40506079, 1.28889248, 7.02774186,\n",
       "       5.85933492, 2.90146219, 5.35090864, 8.08623197, 5.81027123,\n",
       "       0.86657674, 4.40198792, 1.91628779, 7.26702414, 9.65195139,\n",
       "       5.66010839, 6.64088172, 3.62928563, 2.54172649, 1.75250803,\n",
       "       1.07374515, 6.49678759, 4.9618824 , 0.97694871, 0.14755839])"
      ]
     },
     "execution_count": 3,
     "metadata": {},
     "output_type": "execute_result"
    }
   ],
   "source": [
    "#check the x values\n",
    "x"
   ]
  },
  {
   "cell_type": "code",
   "execution_count": 4,
   "metadata": {},
   "outputs": [
    {
     "data": {
      "text/plain": [
       "array([ 1.08260831e+01,  3.63031383e+00,  1.53729892e+01,  1.87770576e+01,\n",
       "        1.26013710e+01,  1.08013474e+01,  2.20228515e+00,  9.81744194e+00,\n",
       "        6.48092747e+00,  1.61297240e+01,  1.14495952e+01,  1.27010010e+01,\n",
       "        1.72095361e+01,  1.31680897e+01,  5.69298064e+00,  4.99320878e+00,\n",
       "        3.58798622e+00,  7.50856275e-03,  3.71367691e+00,  1.21862908e+01,\n",
       "        1.84944864e+01,  4.22257624e-01,  2.55783241e+00,  5.21083392e+00,\n",
       "        1.52859911e+01,  1.90436974e+01,  1.47738273e+01,  1.31184751e+01,\n",
       "        1.85255542e+01,  2.06640420e+00,  3.12854320e+00,  1.27334807e+01,\n",
       "        1.47432368e+01,  1.26226562e+01,  1.07102665e+00,  5.25510025e+00,\n",
       "       -2.05694744e-01,  1.71115119e+01,  1.75067643e+01,  1.23852795e+01,\n",
       "       -1.74989018e-01,  1.48462094e+01,  1.71427930e+01,  3.85784244e+00,\n",
       "        1.78982041e+01,  7.70745331e+00,  6.55350339e+00,  5.92495942e+00,\n",
       "        1.82704234e+01,  5.15551679e+00,  2.31528851e+00, -4.79480918e-01,\n",
       "        1.44925910e+01,  7.44382025e+00,  1.06738749e+01,  1.49845825e+01,\n",
       "        5.80202956e+00,  1.81604041e+00,  1.68098567e+01,  1.65265989e+01,\n",
       "        1.06393611e+01,  1.15928564e+01,  8.24596089e+00,  1.39765066e+01,\n",
       "        1.85192004e+01,  9.79087119e+00,  1.39247740e+01,  6.27183478e+00,\n",
       "        1.42150695e+01,  1.14057257e+01,  9.28640540e+00,  9.08348147e+00,\n",
       "        9.17906874e+00,  6.45043978e+00,  1.73581002e+01,  1.47604373e-01,\n",
       "        1.18710976e+00,  7.27913454e+00,  1.03252827e+00,  1.14436606e+01,\n",
       "        1.02938398e+01,  5.32349224e+00,  1.03905286e+01,  1.61969467e+01,\n",
       "        1.04414701e+01, -2.86398769e-01,  5.90820690e+00,  2.40631086e+00,\n",
       "        1.31153964e+01,  1.69628032e+01,  1.01406461e+01,  1.23923243e+01,\n",
       "        5.71902508e+00,  2.84183410e+00,  2.69952351e+00,  8.34389188e-01,\n",
       "        1.11809134e+01,  8.21072189e+00,  1.72937372e+00, -3.79901979e-01])"
      ]
     },
     "execution_count": 4,
     "metadata": {},
     "output_type": "execute_result"
    }
   ],
   "source": [
    "#check the values for the y axis\n",
    "y"
   ]
  },
  {
   "cell_type": "code",
   "execution_count": 5,
   "metadata": {},
   "outputs": [],
   "source": [
    "#lets start doing regressing by importing it\n",
    "from sklearn.linear_model import LinearRegression\n",
    "#creates the object for the data through initialization and should have the intercepts\n",
    "object = LinearRegression(fit_intercept=True)"
   ]
  },
  {
   "cell_type": "code",
   "execution_count": 6,
   "metadata": {},
   "outputs": [
    {
     "data": {
      "text/plain": [
       "(100, 1)"
      ]
     },
     "execution_count": 6,
     "metadata": {},
     "output_type": "execute_result"
    }
   ],
   "source": [
    "#lets reshape the data because its of just one features from all 50 samples\n",
    "#thus we make it an n by 1 matrix\n",
    "dataX = x[:, np.newaxis]\n",
    "dataX.shape"
   ]
  },
  {
   "cell_type": "code",
   "execution_count": 7,
   "metadata": {},
   "outputs": [
    {
     "data": {
      "text/plain": [
       "LinearRegression()"
      ]
     },
     "execution_count": 7,
     "metadata": {},
     "output_type": "execute_result"
    }
   ],
   "source": [
    "#y is in correct order ,,lets fit for a graph\n",
    "# this will return our objects results\n",
    "object.fit(dataX, y)"
   ]
  },
  {
   "cell_type": "code",
   "execution_count": 8,
   "metadata": {},
   "outputs": [
    {
     "data": {
      "text/plain": [
       "array([1.95089154])"
      ]
     },
     "execution_count": 8,
     "metadata": {},
     "output_type": "execute_result"
    }
   ],
   "source": [
    "#lets get the coefficient of the variable in our model objects\n",
    "object.coef_"
   ]
  },
  {
   "cell_type": "code",
   "execution_count": 9,
   "metadata": {},
   "outputs": [
    {
     "data": {
      "text/plain": [
       "-0.7291035517266966"
      ]
     },
     "execution_count": 9,
     "metadata": {},
     "output_type": "execute_result"
    }
   ],
   "source": [
    "#lets then get the intercept for our data\n",
    "object.intercept_"
   ]
  },
  {
   "cell_type": "code",
   "execution_count": 10,
   "metadata": {},
   "outputs": [
    {
     "data": {
      "text/plain": [
       "array([-1.        , -0.75510204, -0.51020408, -0.26530612, -0.02040816,\n",
       "        0.2244898 ,  0.46938776,  0.71428571,  0.95918367,  1.20408163,\n",
       "        1.44897959,  1.69387755,  1.93877551,  2.18367347,  2.42857143,\n",
       "        2.67346939,  2.91836735,  3.16326531,  3.40816327,  3.65306122,\n",
       "        3.89795918,  4.14285714,  4.3877551 ,  4.63265306,  4.87755102,\n",
       "        5.12244898,  5.36734694,  5.6122449 ,  5.85714286,  6.10204082,\n",
       "        6.34693878,  6.59183673,  6.83673469,  7.08163265,  7.32653061,\n",
       "        7.57142857,  7.81632653,  8.06122449,  8.30612245,  8.55102041,\n",
       "        8.79591837,  9.04081633,  9.28571429,  9.53061224,  9.7755102 ,\n",
       "       10.02040816, 10.26530612, 10.51020408, 10.75510204, 11.        ])"
      ]
     },
     "execution_count": 10,
     "metadata": {},
     "output_type": "execute_result"
    }
   ],
   "source": [
    "# This shows that coeffiecient value is approximately 2 and intercept is -1.12\n",
    "# Since we have trained our model...lets use another data to make prediction\n",
    "xPredict = np.linspace(-1, 11)\n",
    "xPredict"
   ]
  },
  {
   "cell_type": "code",
   "execution_count": 11,
   "metadata": {},
   "outputs": [
    {
     "data": {
      "text/plain": [
       "array([[-1.        ],\n",
       "       [-0.75510204],\n",
       "       [-0.51020408],\n",
       "       [-0.26530612],\n",
       "       [-0.02040816],\n",
       "       [ 0.2244898 ],\n",
       "       [ 0.46938776],\n",
       "       [ 0.71428571],\n",
       "       [ 0.95918367],\n",
       "       [ 1.20408163],\n",
       "       [ 1.44897959],\n",
       "       [ 1.69387755],\n",
       "       [ 1.93877551],\n",
       "       [ 2.18367347],\n",
       "       [ 2.42857143],\n",
       "       [ 2.67346939],\n",
       "       [ 2.91836735],\n",
       "       [ 3.16326531],\n",
       "       [ 3.40816327],\n",
       "       [ 3.65306122],\n",
       "       [ 3.89795918],\n",
       "       [ 4.14285714],\n",
       "       [ 4.3877551 ],\n",
       "       [ 4.63265306],\n",
       "       [ 4.87755102],\n",
       "       [ 5.12244898],\n",
       "       [ 5.36734694],\n",
       "       [ 5.6122449 ],\n",
       "       [ 5.85714286],\n",
       "       [ 6.10204082],\n",
       "       [ 6.34693878],\n",
       "       [ 6.59183673],\n",
       "       [ 6.83673469],\n",
       "       [ 7.08163265],\n",
       "       [ 7.32653061],\n",
       "       [ 7.57142857],\n",
       "       [ 7.81632653],\n",
       "       [ 8.06122449],\n",
       "       [ 8.30612245],\n",
       "       [ 8.55102041],\n",
       "       [ 8.79591837],\n",
       "       [ 9.04081633],\n",
       "       [ 9.28571429],\n",
       "       [ 9.53061224],\n",
       "       [ 9.7755102 ],\n",
       "       [10.02040816],\n",
       "       [10.26530612],\n",
       "       [10.51020408],\n",
       "       [10.75510204],\n",
       "       [11.        ]])"
      ]
     },
     "execution_count": 11,
     "metadata": {},
     "output_type": "execute_result"
    }
   ],
   "source": [
    "# Change this to a n by 1 matrix\n",
    "xSample = xPredict[:, np.newaxis]\n",
    "xSample"
   ]
  },
  {
   "cell_type": "code",
   "execution_count": 12,
   "metadata": {},
   "outputs": [
    {
     "data": {
      "text/plain": [
       "array([-2.67999509, -2.20222574, -1.72445638, -1.24668702, -0.76891766,\n",
       "       -0.29114831,  0.18662105,  0.66439041,  1.14215976,  1.61992912,\n",
       "        2.09769848,  2.57546784,  3.05323719,  3.53100655,  4.00877591,\n",
       "        4.48654526,  4.96431462,  5.44208398,  5.91985334,  6.39762269,\n",
       "        6.87539205,  7.35316141,  7.83093076,  8.30870012,  8.78646948,\n",
       "        9.26423884,  9.74200819, 10.21977755, 10.69754691, 11.17531626,\n",
       "       11.65308562, 12.13085498, 12.60862434, 13.08639369, 13.56416305,\n",
       "       14.04193241, 14.51970176, 14.99747112, 15.47524048, 15.95300984,\n",
       "       16.43077919, 16.90854855, 17.38631791, 17.86408726, 18.34185662,\n",
       "       18.81962598, 19.29739534, 19.77516469, 20.25293405, 20.73070341])"
      ]
     },
     "execution_count": 12,
     "metadata": {},
     "output_type": "execute_result"
    }
   ],
   "source": [
    "#lets feed our data to our model for prediction  of y values\n",
    "yPredict = object.predict(xSample)\n",
    "yPredict"
   ]
  },
  {
   "cell_type": "code",
   "execution_count": 13,
   "metadata": {},
   "outputs": [
    {
     "data": {
      "text/plain": [
       "[<matplotlib.lines.Line2D at 0x7fd4508e0b80>]"
      ]
     },
     "execution_count": 13,
     "metadata": {},
     "output_type": "execute_result"
    },
    {
     "data": {
      "image/png": "[encoded data removed]",
      "text/plain": [
       "<Figure size 432x288 with 1 Axes>"
      ]
     },
     "metadata": {
      "needs_background": "light"
     },
     "output_type": "display_data"
    }
   ],
   "source": [
    "#we have predicteed y values for unploted data..\n",
    "#lets plot both original and predict data to see comparisons\n",
    "#we plot scatter plots for our original data\n",
    "plt.scatter(x, y)\n",
    "#we plot line plots for our newly predicted data data\n",
    "plt.plot(xPredict, yPredict)"
   ]
  },
  {
   "cell_type": "code",
   "execution_count": 14,
   "metadata": {},
   "outputs": [],
   "source": [
    "\n",
    "#using svm\n",
    "from sklearn import svm"
   ]
  },
  {
   "cell_type": "code",
   "execution_count": 15,
   "metadata": {},
   "outputs": [
    {
     "data": {
      "text/plain": [
       "array([[1. , 3. ],\n",
       "       [1. , 2. ],\n",
       "       [1. , 1.5],\n",
       "       [1.5, 2. ],\n",
       "       [2. , 3. ],\n",
       "       [2.5, 1.5],\n",
       "       [2. , 1. ],\n",
       "       [3. , 1. ],\n",
       "       [3. , 2. ],\n",
       "       [3.5, 1. ],\n",
       "       [3.5, 3. ]])"
      ]
     },
     "execution_count": 15,
     "metadata": {},
     "output_type": "execute_result"
    }
   ],
   "source": [
    "y = [0]*6 + [1]*5\n",
    "x = np.array([[1,3],[1,2],[1,1.5],[1.5,2],[2,3],[2.5,1.5],\n",
    " [2,1],[3,1],[3,2],[3.5,1],[3.5,3]])\n",
    "x"
   ]
  },
  {
   "cell_type": "code",
   "execution_count": 16,
   "metadata": {},
   "outputs": [
    {
     "data": {
      "text/plain": [
       "[0, 0, 0, 0, 0, 0, 1, 1, 1, 1, 1]"
      ]
     },
     "execution_count": 16,
     "metadata": {},
     "output_type": "execute_result"
    }
   ],
   "source": [
    "y"
   ]
  },
  {
   "cell_type": "code",
   "execution_count": 17,
   "metadata": {},
   "outputs": [
    {
     "data": {
      "text/plain": [
       "SVC(kernel='linear')"
      ]
     },
     "execution_count": 17,
     "metadata": {},
     "output_type": "execute_result"
    }
   ],
   "source": [
    "#use classification\n",
    "svc = svm.SVC(kernel = \"linear\")\n",
    "svc.fit(x , y)"
   ]
  },
  {
   "cell_type": "code",
   "execution_count": 18,
   "metadata": {},
   "outputs": [],
   "source": [
    "#form data for prediction\n",
    "X,Y = np.mgrid[0:4:200j,0:4:200j]"
   ]
  },
  {
   "cell_type": "code",
   "execution_count": 19,
   "metadata": {},
   "outputs": [],
   "source": [
    "#remove the more decimal points to one using ravel\n",
    "#and then predict from the model \n",
    "Z = svc.decision_function(np.c_[X.ravel(),Y.ravel()])"
   ]
  },
  {
   "cell_type": "code",
   "execution_count": 20,
   "metadata": {},
   "outputs": [
    {
     "data": {
      "text/plain": [
       "array([-1.66788487, -1.68126888, -1.69465289, ...,  1.02717409,\n",
       "        1.01379008,  1.00040607])"
      ]
     },
     "execution_count": 20,
     "metadata": {},
     "output_type": "execute_result"
    }
   ],
   "source": [
    "Z"
   ]
  }
 ],
 "metadata": {
  "kernelspec": {
   "display_name": "Python 3",
   "language": "python",
   "name": "python3"
  },
  "language_info": {
   "codemirror_mode": {
    "name": "ipython",
    "version": 3
   },
   "file_extension": ".py",
   "mimetype": "text/x-python",
   "name": "python",
   "nbconvert_exporter": "python",
   "pygments_lexer": "ipython3",
   "version": "3.8.6"
  }
 },
 "nbformat": 4,
 "nbformat_minor": 2
}
